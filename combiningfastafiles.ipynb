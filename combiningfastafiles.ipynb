{
 "cells": [
  {
   "cell_type": "code",
   "execution_count": 1,
   "metadata": {},
   "outputs": [
    {
     "ename": "ModuleNotFoundError",
     "evalue": "No module named 'chardet'",
     "output_type": "error",
     "traceback": [
      "\u001b[1;31m---------------------------------------------------------------------------\u001b[0m",
      "\u001b[1;31mModuleNotFoundError\u001b[0m                       Traceback (most recent call last)",
      "\u001b[1;32mc:\\Users\\19193\\Desktop\\MhmarPython\\combiningfastafiles.ipynb Cell 1\u001b[0m line \u001b[0;36m1\n\u001b[1;32m----> <a href='vscode-notebook-cell:/c%3A/Users/19193/Desktop/MhmarPython/combiningfastafiles.ipynb#W0sZmlsZQ%3D%3D?line=0'>1</a>\u001b[0m \u001b[39mimport\u001b[39;00m \u001b[39mchardet\u001b[39;00m\n\u001b[0;32m      <a href='vscode-notebook-cell:/c%3A/Users/19193/Desktop/MhmarPython/combiningfastafiles.ipynb#W0sZmlsZQ%3D%3D?line=1'>2</a>\u001b[0m \u001b[39mdef\u001b[39;00m \u001b[39mread_fasta_file\u001b[39m(file_path):\n\u001b[0;32m      <a href='vscode-notebook-cell:/c%3A/Users/19193/Desktop/MhmarPython/combiningfastafiles.ipynb#W0sZmlsZQ%3D%3D?line=2'>3</a>\u001b[0m     sequences \u001b[39m=\u001b[39m {}\n",
      "\u001b[1;31mModuleNotFoundError\u001b[0m: No module named 'chardet'"
     ]
    }
   ],
   "source": [
    "import chardet\n",
    "def read_fasta_file(file_path):\n",
    "    sequences = {}\n",
    "    current_header = None\n",
    "\n",
    "    # Detect the encoding of the file\n",
    "    with open(file_path, 'rb') as file:\n",
    "        raw_data = file.read()\n",
    "        result = chardet.detect(raw_data)\n",
    "        encoding = result['encoding']\n",
    "\n",
    "    # Read the file with the detected encoding\n",
    "    with open(file_path, 'r', encoding=encoding) as file:\n",
    "        for line in file:\n",
    "            line = line.strip()\n",
    "            if line.startswith('>'):\n",
    "                current_header = line[1:]\n",
    "                sequences[current_header] = ''\n",
    "            elif current_header is not None:\n",
    "                sequences[current_header] += line\n",
    "    return sequences\n",
    "\n",
    "def write_fasta_file(sequences, output_file):\n",
    "    with open(output_file, 'w') as file:\n",
    "        for header, sequence in sequences.items():\n",
    "            file.write(f'>{header}\\n')\n",
    "            file.write(sequence + '\\n')\n",
    "\n",
    "# Specify the paths to your input FASTA files\n",
    "fasta_file1 = 'TaylorUndetermined_S0_L001_I1_001.fastq.gz'\n",
    "fasta_file2 = 'Undetermined_S0_L001_I1_001.fastq.gz'\n",
    "\n",
    "# Read the sequences from both files\n",
    "sequences1 = read_fasta_file(fasta_file1)\n",
    "sequences2 = read_fasta_file(fasta_file2)\n",
    "\n",
    "# Merge the sequences\n",
    "merged_sequences = {**sequences1, **sequences2}\n",
    "\n",
    "# Specify the path to the output FASTA file\n",
    "output_file = 'merged.fasta'\n",
    "\n",
    "# Write the merged sequences to the output file\n",
    "write_fasta_file(merged_sequences, output_file)\n",
    "\n",
    "print(f'Merged sequences written to {output_file}')\n"
   ]
  }
 ],
 "metadata": {
  "kernelspec": {
   "display_name": "py39",
   "language": "python",
   "name": "python3"
  },
  "language_info": {
   "codemirror_mode": {
    "name": "ipython",
    "version": 3
   },
   "file_extension": ".py",
   "mimetype": "text/x-python",
   "name": "python",
   "nbconvert_exporter": "python",
   "pygments_lexer": "ipython3",
   "version": "0.0.0"
  },
  "orig_nbformat": 4
 },
 "nbformat": 4,
 "nbformat_minor": 2
}
